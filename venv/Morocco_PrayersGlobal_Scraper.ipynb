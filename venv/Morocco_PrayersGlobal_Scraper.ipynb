{
 "cells": [
  {
   "cell_type": "markdown",
   "id": "835ab26b",
   "metadata": {},
   "source": [
    "## THIS WILL SCRAP AND GIVE THE PRAYER TIMES FOR MAJOR CITIES IN MOROCCO"
   ]
  },
  {
   "cell_type": "code",
   "execution_count": null,
   "id": "27a0a2c3",
   "metadata": {},
   "outputs": [],
   "source": [
    "import requests\n",
    "from bs4 import BeautifulSoup\n",
    "import pandas as pd\n",
    "import os\n",
    "\n",
    "# List of names\n",
    "names = [\"casablanca\", \"rabat\", \"marrakech\", \"tanger\",\"tetouan\",\"fes\",\"agadir\",\"meknes\",\"dakhla\",\"oujda\",\"nador\"]\n",
    "\n",
    "# Loop through the list of names\n",
    "for name in names:\n",
    "    # Create the URL with the current name\n",
    "    url = f'https://lematin.ma/horaire-priere-{name}.html#'\n",
    "\n",
    "    # Make a request to the website\n",
    "    response = requests.get(url)\n",
    "\n",
    "    # Parse the HTML content\n",
    "    soup = BeautifulSoup(response.content, 'html.parser')\n",
    "\n",
    "    # Find the header text\n",
    "    header_text = soup.find('h3').text\n",
    "\n",
    "    # Find the table in the HTML\n",
    "    table = soup.find(\"table\", class_=\"table table-striped\")\n",
    "\n",
    "    # Extract the headers of the table\n",
    "    headers = [th.text for th in table.find(\"tr\").find_all(\"th\")]\n",
    "\n",
    "    # Extract the data from the table\n",
    "    data = []\n",
    "    for row in table.find_all(\"tr\")[1:]:\n",
    "        cells = row.find_all(\"td\")\n",
    "        row_data = [cell.text for cell in cells]\n",
    "        data.append(row_data)\n",
    "\n",
    "    # Create a dataframe\n",
    "    df = pd.DataFrame(data, columns=headers)\n",
    "\n",
    "    \n",
    "    #Remove the first column\n",
    "    df = df.drop(columns=['Header'])\n",
    "\n",
    "    # create the folder if not exist\n",
    "    if not os.path.exists(\"./data\"):\n",
    "        os.makedirs(\"./data\")\n",
    "        \n",
    "    # Save the dataframe to a CSV file\n",
    "    df.to_csv(\"./data/{}_prayer_times.csv\".format(name), index=False)\n"
   ]
  }
 ],
 "metadata": {
  "kernelspec": {
   "display_name": "Python 3 (ipykernel)",
   "language": "python",
   "name": "python3"
  },
  "language_info": {
   "codemirror_mode": {
    "name": "ipython",
    "version": 3
   },
   "file_extension": ".py",
   "mimetype": "text/x-python",
   "name": "python",
   "nbconvert_exporter": "python",
   "pygments_lexer": "ipython3",
   "version": "3.9.15"
  }
 },
 "nbformat": 4,
 "nbformat_minor": 5
}
