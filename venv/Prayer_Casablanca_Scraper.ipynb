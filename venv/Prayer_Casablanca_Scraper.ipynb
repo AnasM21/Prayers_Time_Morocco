{
 "cells": [
  {
   "cell_type": "code",
   "execution_count": 14,
   "id": "4c19f674",
   "metadata": {
    "scrolled": false
   },
   "outputs": [
    {
     "name": "stdout",
     "output_type": "stream",
     "text": [
      "Extracting the data ['1', '07:01', '08:31', '13:39', '16:16', '18:38', '19:58']\n",
      "Extracting the data ['2', '07:01', '08:32', '13:40', '16:16', '18:39', '19:58']\n",
      "Extracting the data ['3', '07:01', '08:32', '13:40', '16:17', '18:40', '19:59']\n",
      "Extracting the data ['4', '07:02', '08:32', '13:41', '16:18', '18:41', '20:00']\n",
      "Extracting the data ['5', '07:02', '08:32', '13:41', '16:18', '18:41', '20:00']\n",
      "Extracting the data ['6', '07:02', '08:32', '13:42', '16:19', '18:42', '20:01']\n",
      "Extracting the data ['7', '07:02', '08:32', '13:42', '16:20', '18:43', '20:02']\n",
      "Extracting the data ['8', '07:02', '08:32', '13:42', '16:21', '18:44', '20:03']\n",
      "Extracting the data ['9', '07:02', '08:32', '13:43', '16:22', '18:45', '20:03']\n",
      "Extracting the data ['10', '07:02', '08:32', '13:43', '16:22', '18:46', '20:04']\n",
      "Extracting the data ['11', '07:02', '08:32', '13:44', '16:23', '18:47', '20:05']\n",
      "Extracting the data ['12', '07:02', '08:32', '13:44', '16:24', '18:47', '20:06']\n",
      "Extracting the data ['13', '07:02', '08:32', '13:44', '16:25', '18:48', '20:07']\n",
      "Extracting the data ['14', '07:02', '08:31', '13:45', '16:26', '18:49', '20:07']\n",
      "Extracting the data ['15', '07:02', '08:31', '13:45', '16:27', '18:50', '20:08']\n",
      "Extracting the data ['16', '07:02', '08:31', '13:46', '16:27', '18:51', '20:09']\n",
      "Extracting the data ['17', '07:02', '08:31', '13:46', '16:28', '18:52', '20:10']\n",
      "Extracting the data ['18', '07:02', '08:30', '13:46', '16:29', '18:53', '20:11']\n",
      "Extracting the data ['19', '07:01', '08:30', '13:46', '16:30', '18:54', '20:11']\n",
      "Extracting the data ['20', '07:01', '08:30', '13:47', '16:31', '18:55', '20:12']\n",
      "Extracting the data ['21', '07:01', '08:29', '13:47', '16:32', '18:56', '20:13']\n",
      "Extracting the data ['22', '07:01', '08:29', '13:47', '16:32', '18:57', '20:14']\n",
      "Extracting the data ['23', '07:00', '08:29', '13:48', '16:33', '18:58', '20:15']\n",
      "Extracting the data ['24', '07:00', '08:28', '13:48', '16:34', '18:59', '20:16']\n",
      "Extracting the data ['25', '07:00', '08:28', '13:48', '16:35', '19:00', '20:16']\n",
      "Extracting the data ['26', '06:59', '08:27', '13:48', '16:36', '19:01', '20:17']\n",
      "Extracting the data ['27', '06:59', '08:26', '13:48', '16:37', '19:02', '20:18']\n",
      "Extracting the data ['28', '06:58', '08:26', '13:49', '16:37', '19:03', '20:19']\n",
      "Extracting the data ['29', '06:58', '08:25', '13:49', '16:38', '19:04', '20:20']\n",
      "Extracting the data ['30', '06:57', '08:25', '13:49', '16:39', '19:05', '20:21']\n",
      "Extracting the data ['31', '06:57', '08:24', '13:49', '16:40', '19:06', '20:22']\n"
     ]
    }
   ],
   "source": [
    "import requests\n",
    "from bs4 import BeautifulSoup\n",
    "import pandas as pd\n",
    "\n",
    "# Make a request to the website\n",
    "url = 'https://lematin.ma/horaire-priere-casablanca.html#'\n",
    "response = requests.get(url)\n",
    "\n",
    "# Parse the HTML content\n",
    "soup = BeautifulSoup(response.content, 'html.parser')\n",
    "\n",
    "# Find the header text\n",
    "header_text = soup.find('h3').text\n",
    "\n",
    "# Find the table in the HTML\n",
    "table = soup.find(\"table\", class_=\"table table-striped\")\n",
    "\n",
    "# Extract the headers of the table\n",
    "headers = [th.text for th in table.find(\"tr\").find_all(\"th\")]\n",
    "\n",
    "# Extract the data from the table\n",
    "data = []\n",
    "for row in table.find_all(\"tr\")[1:]:\n",
    "    cells = row.find_all(\"td\")\n",
    "    row_data = [cell.text for cell in cells]\n",
    "    data.append(row_data)\n",
    "    print(\"Extracting the data\",row_data)\n",
    "\n",
    "# Create a dataframe\n",
    "df = pd.DataFrame(data, columns=headers)\n",
    "# Save the dataframe to a CSV file\n",
    "df.to_csv(\"prayer_times1.csv\", index=False)\n"
   ]
  },
  {
   "cell_type": "code",
   "execution_count": null,
   "id": "eec60e00",
   "metadata": {},
   "outputs": [],
   "source": []
  }
 ],
 "metadata": {
  "kernelspec": {
   "display_name": "Python 3 (ipykernel)",
   "language": "python",
   "name": "python3"
  },
  "language_info": {
   "codemirror_mode": {
    "name": "ipython",
    "version": 3
   },
   "file_extension": ".py",
   "mimetype": "text/x-python",
   "name": "python",
   "nbconvert_exporter": "python",
   "pygments_lexer": "ipython3",
   "version": "3.9.15"
  }
 },
 "nbformat": 4,
 "nbformat_minor": 5
}
